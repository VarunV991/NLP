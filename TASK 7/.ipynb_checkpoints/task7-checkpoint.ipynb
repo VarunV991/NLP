{
 "cells": [
  {
   "cell_type": "markdown",
   "metadata": {},
   "source": [
    "# TASK 7"
   ]
  },
  {
   "cell_type": "code",
   "execution_count": null,
   "metadata": {},
   "outputs": [],
   "source": []
  },
  {
   "cell_type": "code",
   "execution_count": 1,
   "metadata": {},
   "outputs": [],
   "source": [
    "import nltk"
   ]
  },
  {
   "cell_type": "code",
   "execution_count": 2,
   "metadata": {},
   "outputs": [],
   "source": [
    "def gender_features(str):\n",
    "    return {'last_letter' : str[-1]}"
   ]
  },
  {
   "cell_type": "code",
   "execution_count": 3,
   "metadata": {},
   "outputs": [
    {
     "data": {
      "text/plain": [
       "{'last_letter': 'n'}"
      ]
     },
     "execution_count": 3,
     "metadata": {},
     "output_type": "execute_result"
    }
   ],
   "source": [
    "gender_features(\"Varun\")"
   ]
  },
  {
   "cell_type": "code",
   "execution_count": 4,
   "metadata": {},
   "outputs": [
    {
     "data": {
      "text/plain": [
       "['Abagael', 'Abagail', 'Abbe', 'Abbey', 'Abbi']"
      ]
     },
     "execution_count": 4,
     "metadata": {},
     "output_type": "execute_result"
    }
   ],
   "source": [
    "from nltk.corpus import names\n",
    "names.words()[:5]"
   ]
  },
  {
   "cell_type": "code",
   "execution_count": 5,
   "metadata": {},
   "outputs": [],
   "source": [
    "labeled_names = ([(name,'male') for name in names.words('male.txt')] + [(name,'female') for name in names.words('female.txt')])"
   ]
  },
  {
   "cell_type": "code",
   "execution_count": 6,
   "metadata": {},
   "outputs": [],
   "source": [
    "import random \n",
    "random.shuffle(labeled_names)"
   ]
  },
  {
   "cell_type": "code",
   "execution_count": 7,
   "metadata": {},
   "outputs": [],
   "source": [
    "featuresets = [(gender_features(n),gender) for (n,gender) in labeled_names]"
   ]
  },
  {
   "cell_type": "code",
   "execution_count": 8,
   "metadata": {},
   "outputs": [],
   "source": [
    "train_set,test_set  = featuresets[:5000],featuresets[2000:]"
   ]
  },
  {
   "cell_type": "code",
   "execution_count": null,
   "metadata": {},
   "outputs": [],
   "source": []
  },
  {
   "cell_type": "code",
   "execution_count": 9,
   "metadata": {},
   "outputs": [
    {
     "data": {
      "text/plain": [
       "'male'"
      ]
     },
     "execution_count": 9,
     "metadata": {},
     "output_type": "execute_result"
    }
   ],
   "source": [
    "import nltk\n",
    "classifier = nltk.NaiveBayesClassifier.train(train_set)\n",
    "classifier.classify(gender_features('Varun'))"
   ]
  },
  {
   "cell_type": "code",
   "execution_count": 10,
   "metadata": {},
   "outputs": [
    {
     "name": "stdout",
     "output_type": "stream",
     "text": [
      "0.7664872139973082\n"
     ]
    }
   ],
   "source": [
    "print(nltk.classify.accuracy(classifier,test_set))"
   ]
  },
  {
   "cell_type": "code",
   "execution_count": null,
   "metadata": {},
   "outputs": [],
   "source": []
  },
  {
   "cell_type": "markdown",
   "metadata": {},
   "source": [
    "# POS Tagging"
   ]
  },
  {
   "cell_type": "code",
   "execution_count": 12,
   "metadata": {},
   "outputs": [
    {
     "name": "stdout",
     "output_type": "stream",
     "text": [
      "[('Cristiano', 'NNP'), ('Ronaldo', 'NNP'), ('dos', 'NN'), ('Santos', 'NNP'), ('Aveiro', 'NNP'), ('born', 'VBD'), ('São', 'NNP'), ('Pedro', 'NNP'), ('Funchal', 'NNP'), ('Portuguese', 'NNP'), ('island', 'NN'), ('Madeira', 'NNP'), ('grew', 'VBD'), ('Santo', 'NNP'), ('António', 'NNP'), ('Funchal', 'NNP'), ('14', 'CD'), ('15', 'CD'), ('He', 'PRP'), ('fourth', 'JJ'), ('youngest', 'JJS'), ('child', 'NN'), ('Maria', 'NNP'), ('Dolores', 'NNP'), ('dos', 'VBZ'), ('Santos', 'NNP'), ('Viveiros', 'NNP'), ('da', 'NN'), ('Aveiro', 'NNP'), ('b', 'NN'), ('1954', 'CD'), ('cook', 'NN'), ('José', 'NNP'), ('Dinis', 'NNP'), ('Aveiro', 'NNP'), ('1953', 'CD'), ('2005', 'CD'), ('municipal', 'JJ'), ('gardener', 'FW'), ('part', 'NN'), ('time', 'NN'), ('kit', 'NN'), ('man', 'NN'), ('16', 'CD'), ('His', 'PRP$'), ('great', 'JJ'), ('grandmother', 'NN'), ('father', 'NN'), ('side', 'NN'), ('Isabel', 'NNP'), ('da', 'NN'), ('Piedade', 'NNP'), ('island', 'NN'), ('São', 'NNP'), ('Vicente', 'NNP'), ('Cape', 'NNP'), ('Verde', 'NNP'), ('He', 'PRP'), ('one', 'CD'), ('older', 'JJR'), ('brother', 'NN'), ('Hugo', 'NNP'), ('b', 'NN'), ('1975', 'CD'), ('two', 'CD'), ('older', 'JJR'), ('sisters', 'NNS'), ('Elma', 'NNP'), ('b', 'NN'), ('1973', 'CD'), ('Liliana', 'NNP'), ('Cátia', 'NNP'), ('Katia', 'NNP'), ('b', 'NN'), ('1977', 'CD'), ('singer', 'NN'), ('18', 'CD'), ('Ronaldo', 'NNP'), ('grew', 'VBD'), ('Catholic', 'NNP'), ('impoverished', 'VBD'), ('home', 'NN'), ('sharing', 'NN'), ('room', 'NN'), ('siblings', 'VBZ'), ('The', 'DT'), ('name', 'NN'), ('Ronaldo', 'NNP'), ('added', 'VBD'), ('Cristiano', 'NNP'), ('name', 'NN'), ('honour', 'PRP$'), ('father', 'NN'), ('favourite', 'JJ'), ('movie', 'NN'), ('actor', 'NN'), ('Ronald', 'NNP'), ('Reagan', 'NNP'), ('U', 'NNP'), ('S', 'NNP'), ('president', 'NN'), ('time', 'NN'), ('Cristiano', 'NNP'), ('birth', 'RB'), ('20', 'CD'), ('As', 'IN'), ('child', 'NN'), ('Ronaldo', 'NNP'), ('played', 'VBD'), ('amateur', 'RP'), ('team', 'NN'), ('Andorinha', 'NNP'), ('1992', 'CD'), ('1995', 'CD'), ('21', 'CD'), ('father', 'JJ'), ('kit', 'NN'), ('man', 'NN'), ('16', 'CD'), ('later', 'RB'), ('spent', 'VBN'), ('two', 'CD'), ('years', 'NNS'), ('Nacional', 'NNP'), ('In', 'IN'), ('1997', 'CD'), ('aged', 'VBD'), ('12', 'CD'), ('went', 'VBD'), ('three', 'CD'), ('day', 'NN'), ('trial', 'NN'), ('Sporting', 'NNP'), ('CP', 'NNP'), ('signed', 'VBD'), ('fee', 'NN'), ('1', 'CD'), ('500', 'CD'), ('22', 'CD'), ('He', 'PRP'), ('subsequently', 'RB'), ('moved', 'VBD'), ('Madeira', 'NNP'), ('Alcochete', 'NNP'), ('near', 'IN'), ('Lisbon', 'NNP'), ('join', 'NN'), ('Sporting', 'VBG'), ('youth', 'NN'), ('players', 'NNS'), ('club', 'VBP'), ('football', 'NN'), ('academy', 'NN'), ('22', 'CD'), ('By', 'IN'), ('age', 'NN'), ('14', 'CD'), ('Ronaldo', 'NNP'), ('believed', 'VBN'), ('ability', 'NN'), ('play', 'NN'), ('semi', 'VBZ'), ('professionally', 'RB'), ('agreed', 'VBN'), ('mother', 'NN'), ('cease', 'NN'), ('education', 'NN'), ('order', 'NN'), ('focus', 'NN'), ('entirely', 'RB'), ('football', 'NN'), ('23', 'CD'), ('While', 'IN'), ('popular', 'JJ'), ('students', 'NNS'), ('school', 'NN'), ('expelled', 'VBD'), ('throwing', 'VBG'), ('chair', 'NN'), ('teacher', 'NN'), ('said', 'VBD'), ('disrespected', 'JJ'), ('23', 'CD'), ('However', 'RB'), ('one', 'CD'), ('year', 'NN'), ('later', 'RB'), ('diagnosed', 'VBD'), ('racing', 'VBG'), ('heart', 'NN'), ('condition', 'NN'), ('could', 'MD'), ('forced', 'VB'), ('give', 'JJ'), ('playing', 'NN'), ('football', 'NN'), ('24', 'CD'), ('Ronaldo', 'NNP'), ('underwent', 'JJ'), ('heart', 'NN'), ('surgery', 'NN'), ('laser', 'NN'), ('used', 'VBN'), ('cauterise', 'NN'), ('multiple', 'JJ'), ('cardiac', 'JJ'), ('pathways', 'NNS'), ('one', 'CD'), ('altering', 'VBG'), ('resting', 'VBG'), ('heart', 'NN'), ('rate', 'NN'), ('25', 'CD'), ('He', 'PRP'), ('discharged', 'VBD'), ('hospital', 'NN'), ('hours', 'NNS'), ('procedure', 'NN'), ('resumed', 'VBD'), ('training', 'NN'), ('days', 'NNS'), ('later', 'RB')]\n"
     ]
    }
   ],
   "source": [
    "import nltk \n",
    "from nltk.corpus import stopwords \n",
    "from nltk.tokenize import RegexpTokenizer\n",
    "\n",
    "stop_words = set(stopwords.words('english')) \n",
    "txt = '''Cristiano Ronaldo dos Santos Aveiro was born in São Pedro, Funchal, on the Portuguese island of Madeira, and grew up in Santo António, Funchal.[14][15] He is the fourth and youngest child of Maria Dolores dos Santos \n",
    "Viveiros da Aveiro (b. 1954), a cook, and José Dinis Aveiro (1953–2005), a municipal gardener and part-time kit man.[16] His great-grandmother on his father's side, Isabel da Piedade, was from the island of São Vicente, Cape Verde.\n",
    "He has one older brother, Hugo (b. 1975), and two older sisters, Elma (b. 1973) and Liliana Cátia \"Katia\" (b. 1977), who is a singer.[18] Ronaldo grew up in a Catholic and impoverished home, sharing a room with all his siblings.\n",
    "The name Ronaldo was added to Cristiano's name in honour of his father's favourite movie actor, Ronald Reagan, who was U.S. president at the time of Cristiano's birth.[20] As a child, Ronaldo played for amateur team Andorinha from 1992 to 1995,\n",
    "[21] where his father was the kit man,[16] and later spent two years with Nacional. In 1997, aged 12, he went on a three-day trial with Sporting CP, who signed him for a fee of £1,500.[22] He subsequently moved from Madeira to Alcochete, near Lisbon, \n",
    "to join Sporting's other youth players at the club's football academy.[22] By age 14, Ronaldo believed he had the ability to play semi-professionally, and agreed with his mother to cease his education in order to focus entirely on football.[23] \n",
    "While popular with other students at school, he had been expelled after throwing a chair at his teacher, who he said had \"disrespected\" him.[23] However, one year later, he was diagnosed with a racing heart, a condition that could have forced him \n",
    "to give up playing football.[24] Ronaldo underwent heart surgery where a laser was used to cauterise multiple cardiac pathways into one, altering his resting heart rate.[25] He was discharged from the hospital hours after the procedure and resumed training a few days later.'''\n",
    "\n",
    "tokenizer = RegexpTokenizer('\\w+')\n",
    "words =tokenizer.tokenize(txt)\n",
    "wordsList = [w for w in words if not w in stop_words] \n",
    "tagged_words = nltk.pos_tag(wordsList)\n",
    "print(tagged_words)"
   ]
  },
  {
   "cell_type": "code",
   "execution_count": null,
   "metadata": {},
   "outputs": [],
   "source": []
  }
 ],
 "metadata": {
  "kernelspec": {
   "display_name": "Python 3",
   "language": "python",
   "name": "python3"
  },
  "language_info": {
   "codemirror_mode": {
    "name": "ipython",
    "version": 3
   },
   "file_extension": ".py",
   "mimetype": "text/x-python",
   "name": "python",
   "nbconvert_exporter": "python",
   "pygments_lexer": "ipython3",
   "version": "3.7.3"
  }
 },
 "nbformat": 4,
 "nbformat_minor": 4
}
