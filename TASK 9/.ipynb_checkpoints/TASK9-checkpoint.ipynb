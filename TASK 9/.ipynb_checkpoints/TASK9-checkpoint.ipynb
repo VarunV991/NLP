{
 "cells": [
  {
   "cell_type": "markdown",
   "metadata": {},
   "source": [
    "# TASK 9"
   ]
  },
  {
   "cell_type": "markdown",
   "metadata": {},
   "source": [
    "## Measuring similarity between two documents TF-IDF Vectorizer"
   ]
  },
  {
   "cell_type": "code",
   "execution_count": null,
   "metadata": {},
   "outputs": [],
   "source": []
  },
  {
   "cell_type": "code",
   "execution_count": 1,
   "metadata": {},
   "outputs": [],
   "source": [
    "#import libraries \n",
    "import nltk, string\n",
    "from sklearn.feature_extraction.text import TfidfVectorizer"
   ]
  },
  {
   "cell_type": "code",
   "execution_count": 3,
   "metadata": {},
   "outputs": [],
   "source": [
    "# Two news articles about the same issue from different papers\n",
    "DOC1 = '''India will take care to ensure that any restoration of status quo ante does not take place on China’s terms \n",
    "during the Lt-General-level meeting to be held on Saturday in a bid to de-escalate the month-long troop confrontation \n",
    "in eastern Ladakh.India’s negotiating stand will essentially be four-pronged during the talks at the Chushul-Moldo border \n",
    "personnel meeting (BPM) point, with the Indian delegation led by 14 Corps commander Lt-Gen Harinder Singh crossing over \n",
    "to the Chinese side for the dialogue, said sources on Thursday. India, for one, wants the two armies to mutually de-induct \n",
    "their troops from the four to five confrontation sites at the northern bank of Pangong Tso (Tso means lake), Gogra-Hot Springs \n",
    "area and Galwan Valley region as well as additional battalions, artillery guns and armoured vehicles in the “rear areas” in a \n",
    "phased, verifiable manner.'''\n",
    "DOC2 = '''head of the crucial Lt Gen-level talks between India and China on border row in Ladakh, security agencies have \n",
    "submitted a detailed report to the government on the Chinese military build-up in Eastern Ladakh.In the report, the security \n",
    "agencies have given details on ongoing developments in Ladakh and how the Chinese army brought in troops in different sectors \n",
    "of eastern Ladakh, government sources told India Today. The report also mentions how the Chinese army rapidly deployed its \n",
    "forces along with heavy weaponry along the LAC from a major exercise taking place on its side of the border. From May 5-6, \n",
    "the Chinese army marched along the LAC in heavy vehicles and deployed in areas including Pangong Tso Lake and Galwan Nala \n",
    "area in the Eastern Ladakh sector.Both sides held several rounds of talks but a breakthrough is still awaited and now all \n",
    "eyes are on the Lieutenant General-level talks to be held on June 6.'''"
   ]
  },
  {
   "cell_type": "code",
   "execution_count": 4,
   "metadata": {},
   "outputs": [],
   "source": [
    "#Token stemming using Porter Stemmer\n",
    "stemmer = nltk.stem.porter.PorterStemmer()\n",
    "\n",
    "#function to remove punctuation\n",
    "remove_punctuation_map = dict((ord(char), None) for char in string.punctuation)\n",
    "\n",
    "def stem_tokens(tokens):\n",
    "    return [stemmer.stem(item) for item in tokens]\n",
    "\n",
    "# Function to normalize(remove punctuation,lowercase,stem the words)\n",
    "def normalize(text):\n",
    "    return stem_tokens(nltk.word_tokenize(text.lower().translate(remove_punctuation_map)))"
   ]
  },
  {
   "cell_type": "code",
   "execution_count": 5,
   "metadata": {},
   "outputs": [],
   "source": [
    "#TF-IDF vectorization\n",
    "vectorizer = TfidfVectorizer(tokenizer=normalize, stop_words='english')"
   ]
  },
  {
   "cell_type": "code",
   "execution_count": 7,
   "metadata": {},
   "outputs": [
    {
     "name": "stdout",
     "output_type": "stream",
     "text": [
      "Document Similarity is : 0.17250800169616254\n"
     ]
    },
    {
     "name": "stderr",
     "output_type": "stream",
     "text": [
      "C:\\Users\\Varun\\Anaconda3\\lib\\site-packages\\sklearn\\feature_extraction\\text.py:300: UserWarning: Your stop_words may be inconsistent with your preprocessing. Tokenizing the stop words generated tokens ['abov', 'afterward', 'alon', 'alreadi', 'alway', 'ani', 'anoth', 'anyon', 'anyth', 'anywher', 'becam', 'becaus', 'becom', 'befor', 'besid', 'cri', 'describ', 'dure', 'els', 'elsewher', 'empti', 'everi', 'everyon', 'everyth', 'everywher', 'fifti', 'formerli', 'forti', 'ha', 'henc', 'hereaft', 'herebi', 'hi', 'howev', 'hundr', 'inde', 'latterli', 'mani', 'meanwhil', 'moreov', 'mostli', 'nobodi', 'noon', 'noth', 'nowher', 'onc', 'onli', 'otherwis', 'ourselv', 'perhap', 'pleas', 'seriou', 'sever', 'sinc', 'sincer', 'sixti', 'someon', 'someth', 'sometim', 'somewher', 'themselv', 'thenc', 'thereaft', 'therebi', 'therefor', 'thi', 'thu', 'togeth', 'twelv', 'twenti', 'veri', 'wa', 'whatev', 'whenc', 'whenev', 'wherea', 'whereaft', 'wherebi', 'wherev', 'whi', 'yourselv'] not in stop_words.\n",
      "  'stop_words.' % sorted(inconsistent))\n"
     ]
    }
   ],
   "source": [
    "# Finding the cosine similarity\n",
    "def cosine_sim(text1, text2):\n",
    "    tfidf = vectorizer.fit_transform([text1, text2])\n",
    "    return ((tfidf * tfidf.T).A)[0,1]\n",
    "\n",
    "\n",
    "print(\"Document Similarity is :\",cosine_sim(DOC1,DOC2))"
   ]
  },
  {
   "cell_type": "code",
   "execution_count": null,
   "metadata": {},
   "outputs": [],
   "source": []
  }
 ],
 "metadata": {
  "kernelspec": {
   "display_name": "Python 3",
   "language": "python",
   "name": "python3"
  },
  "language_info": {
   "codemirror_mode": {
    "name": "ipython",
    "version": 3
   },
   "file_extension": ".py",
   "mimetype": "text/x-python",
   "name": "python",
   "nbconvert_exporter": "python",
   "pygments_lexer": "ipython3",
   "version": "3.7.3"
  }
 },
 "nbformat": 4,
 "nbformat_minor": 4
}
