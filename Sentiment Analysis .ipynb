{
 "cells": [
  {
   "cell_type": "markdown",
   "metadata": {},
   "source": [
    "# Magnum Opus 2"
   ]
  },
  {
   "cell_type": "markdown",
   "metadata": {},
   "source": [
    "## Sentiment analysis of article on Elon Musk's Success"
   ]
  },
  {
   "cell_type": "code",
   "execution_count": null,
   "metadata": {},
   "outputs": [],
   "source": []
  },
  {
   "cell_type": "code",
   "execution_count": 12,
   "metadata": {},
   "outputs": [],
   "source": [
    "import nltk\n",
    "from nltk.tokenize import RegexpTokenizer\n",
    "from urllib import request\n",
    "from bs4 import BeautifulSoup\n",
    "import string"
   ]
  },
  {
   "cell_type": "code",
   "execution_count": 13,
   "metadata": {},
   "outputs": [],
   "source": [
    "# Scraping the text from the website\n",
    "url = \"https://www.ssim.ac.in/blog/elon-musk-success-story/\"\n",
    "response = request.urlopen(url)\n",
    "raw = response.read().decode('utf-8')\n",
    "soup = BeautifulSoup(raw, \"html5lib\")\n",
    "para = soup.findAll('p')"
   ]
  },
  {
   "cell_type": "code",
   "execution_count": 18,
   "metadata": {},
   "outputs": [],
   "source": [
    "#Remove Punctuation\n",
    "def remove_punctuation(from_text):\n",
    "    table = str.maketrans('', '', string.punctuation)\n",
    "    stripped = [w.translate(table) for w in from_text]\n",
    "    return stripped"
   ]
  },
  {
   "cell_type": "code",
   "execution_count": 19,
   "metadata": {},
   "outputs": [
    {
     "data": {
      "text/plain": [
       "1337"
      ]
     },
     "execution_count": 19,
     "metadata": {},
     "output_type": "execute_result"
    }
   ],
   "source": [
    "# Finding the number of tokens in the article\n",
    "words = []\n",
    "for p in para:\n",
    "    text = p.get_text()\n",
    "    # Word Tokenization\n",
    "    words.append(nltk.word_tokenize(text))\n",
    "stripped = [remove_punctuation(w) for w in words]\n",
    "corpus = []\n",
    "for sentences in stripped:\n",
    "    for word in sentences:\n",
    "        if(word!=\"\"):\n",
    "            corpus.append(word)\n",
    "# Part of speech Tagging\n",
    "tagged_words = nltk.pos_tag(corpus)\n",
    "len(tagged_words)"
   ]
  },
  {
   "cell_type": "code",
   "execution_count": 20,
   "metadata": {},
   "outputs": [
    {
     "data": {
      "text/plain": [
       "62"
      ]
     },
     "execution_count": 20,
     "metadata": {},
     "output_type": "execute_result"
    }
   ],
   "source": [
    "# Identifying the adjectives\n",
    "adj = []\n",
    "for tuples in tagged_words:\n",
    "    if(tuples[1]=='JJ'):\n",
    "        adj.append(tuples[0])\n",
    "len(adj)"
   ]
  },
  {
   "cell_type": "code",
   "execution_count": 22,
   "metadata": {},
   "outputs": [],
   "source": [
    "def listToString(s):  \n",
    "    str1 = \" \" \n",
    "    return (str1.join(s))"
   ]
  },
  {
   "cell_type": "code",
   "execution_count": 30,
   "metadata": {},
   "outputs": [
    {
     "name": "stdout",
     "output_type": "stream",
     "text": [
      "So how many of you heard of Tesla Motors ? What about SpaceX ? Hyperloop ? Unless you live under a rock without bars chances are you mostly heard of the name Tesla Motors . It is a car company , Electric car company to be specific . This guy we are talking about , Read the title once in case you forgot his name , is the CEO of it and this is his success story .\n",
      "compound: 0.5644, neg: 0.022, neu: 0.918, pos: 0.06, \n",
      "\n",
      "In Management classes , you may be heard of lecturers saying “ we have to think out of the box ” . This guy did a Ph.D. on it , guys please stop searching google on “ how to do a Ph.D. in Out of the box thinking ” I haven ’ t said it literally .\n",
      "compound: 0.0258, neg: 0.047, neu: 0.903, pos: 0.049, \n",
      "\n",
      "We watched many sci-fi movies , let ’ s say Blade Runner , Star Wars , Total Recall and many . In all those movies they projected that the future is all about Air Transport , but this guy is digging a hole in the ground from Los Angeles to San Francisco for High-speed transportation . This time I mean it literally .\n",
      "compound: -0.3182, neg: 0.043, neu: 0.957, pos: 0.0, \n",
      "\n",
      "Let ’ s be frank how many of us think of ideas like leaving the Earth and start colonizing on Mars ? and how many of us ever thought of reusing an orbital rocket ? Forget about out of the box his thoughts are already out of this world .\n",
      "compound: 0.2406, neg: 0.04, neu: 0.9, pos: 0.06, \n",
      "\n",
      "Elon Musk is the second entrepreneur in silicon valley who created three companies with a market cap of $ 1 billion or more with PayPal , Tesla and SpaceX . But do you know “ he got fired as a CEO from his own company ” ?\n",
      "compound: -0.3818, neg: 0.087, neu: 0.865, pos: 0.048, \n",
      "\n",
      "Being the Firstborn of a South African father and a Canadian mother who got divorced when he was 9 by the way . He is always interested in books . His dad said , “ he used to read books even while he was at a party. ” He taught himself programming and developed a game at the age of 12 and sold it to a company for a price of $ 500 . ”\n",
      "compound: 0.6597, neg: 0.0, neu: 0.915, pos: 0.085, \n",
      "\n",
      "While he is studying in a school he got bullied by his schoolmates and got beaten up severely until he is blacked out and then he hospitalized . His childhood is a difficult one because the other kids used to mess with him all the time because he is different from them . He is smart and special . At that time in South Africa , there is mandatory military , every male from a family has to serve in the army when he turns 18 , to avoid that and to pursue his dreams Elon Musk after graduating from Secondary school in Pretoria moved to Canada to his mother ’ s relatives while he was 17 .\n",
      "compound: -0.8271, neg: 0.14, neu: 0.784, pos: 0.077, \n",
      "\n",
      "In Canada to survive poverty he worked in some low paid jobs , then he received a scholarship from The University of Pennsylvania and moved to the United States . Elon Musk majored in Physics and Economics , yup two bachelor degrees .\n",
      "compound: -0.3818, neg: 0.125, neu: 0.81, pos: 0.065, \n",
      "\n",
      "After he got a seat in Ph.D. in Applied Physics at Stanford University which is very prestigious but he dropped out just after two days to start a new company . He and his brother borrowed $ 28000 from their father and launched a company called Zip2 . To save rent and other expenses he used to sleep in his company office and took showers in a near gym . Four years later they sold their company to Compaq for $ 307 million in cash and $ 34 million in stock , this is how Elon Musk gets his start he received $ 22 million for his 7 % stake from the sale .\n",
      "compound: 0.7227, neg: 0.0, neu: 0.941, pos: 0.059, \n",
      "\n",
      "Later he started another company called X.com and it merged with its competitor and turned into PayPal where he got fired as CEO . Later eBay acquired it for $ 1.5 billion . This is where Elon Musk got rich , he got $ 165 million from the deal .\n",
      "compound: 0.0, neg: 0.073, neu: 0.854, pos: 0.073, \n",
      "\n",
      "This is where his story started to become a success story , If some other person got that money he will spend it on mostly Luxuries , well he too bought a McLaren and a Private Jet but he took an extremely risky decision . At that time Electric cars are considered to be slow and ugly but a company called Tesla wants to change it , but while they are in a position of bankrupt Elon Musk invested $ 80 million on Tesla Motors and became its CEO .\n",
      "compound: -0.8776, neg: 0.133, neu: 0.823, pos: 0.043, \n",
      "\n",
      "At first , it is a failure , cars are very priced , TV shows like Top Gear brought a lot of negativity to the brand but Elon Musk fights back . He took precision care and took some bold decisions like firing some of the employees and even its co-founder and by actively participating in that company ’ s innovation and decision making he made the company a car giant . Even our Prime Minister Narendra Modi also visited his factory . Now they are manufacturing Tesla Roadster 2.0 which is the world ’ s fastest car ever . now if anyone heard the word “ electric car ” chances are they are thinking of Tesla mostly like it has no opposition . Tesla is now ruling the electric car market unanimously .\n",
      "compound: 0.9032, neg: 0.097, neu: 0.72, pos: 0.183, \n",
      "\n",
      "Same in the case of SpaceX , at the beginning it was a failure , they tried to launch their first rocket but failed to reach the orbit three times , for every failure it costs millions of dollars . If there had another failure , Elon Musk might lose all his money at that time . But on their fourth attempt the project got succeeded , At that time they got a deal from NASA and from henceforth there is no turning back . They are the first private company to send a spacecraft to International Space Station . Elon Musk taught himself Rocket Science , as he taught himself programming at the age of 12 , for him , it ’ s just a Rocket Science .\n",
      "compound: -0.9584, neg: 0.17, neu: 0.793, pos: 0.038, \n",
      "\n",
      "He never gives up . Once in an interview , he said “ My mentality is that of a samurai . I would rather commit seppuku than fail. ” Japanese samurais won ’ t let their enemies kill them if they can ’ t win a battle they will kill themselves with their blade . This “ never give up attitude ” brought him immeasurable success . Not only that but also he is a hard worker , He works 80-100 hours a week . This 46-year-old Business Magnet is the partial inspiration for the movie character “ Iron Man ” played by Robert Downey Jr . He is a stutterer , he stutters a lot while he is speaking , but the crowd usually laughs and wait for him to speak . If you ’ re successful , people will ignore your shortcomings .\n",
      "compound: 0.7003, neg: 0.152, neu: 0.677, pos: 0.171, \n",
      "\n",
      "Now Elon Musk is the Founder of SpaceX , The Boring Company , CEO of Tesla Motors , CEO of Neuralink , Chairman of SolarCity and Co-chairman of OpenAI . From an Immigrant to Advisor of the US President . From failure to Success . Now Elon Musk Net Worth is $ 20.6 billion .\n",
      "compound: 0.0, neg: 0.105, neu: 0.789, pos: 0.105, \n",
      "\n",
      "Have you ever wondered why the best success stories mostly begin with failure ? ? Some people say that failure is the first step to success , and there is a man who invented the bulb he said this famous quote “ I have not failed , I ’ ve just found 10,000 ways that won ’ t work. ” well it ’ s a hell of a quote , isn ’ t it ? But do you know what I think about “ why most success stories begin with failure ? ” Because they haven ’ t stopped at the failure , they keep on pushing their limits irrespective of their circumstances .\n",
      "compound: 0.7237, neg: 0.168, neu: 0.621, pos: 0.211, \n",
      "\n",
      "Maybe there will be a time in your life where you feel like everything is not working , your work , your relationships , everything but whenever you feel like that all you have to do is one thing , “ Just Keep Pushing ” .\n",
      "compound: 0.6124, neg: 0.0, neu: 0.878, pos: 0.122, \n",
      "\n",
      "\n",
      "compound: 0.0, neg: 0.0, neu: 0.0, pos: 0.0, \n",
      "\n",
      "\n",
      "compound: 0.0, neg: 0.0, neu: 0.0, pos: 0.0, \n",
      "\n",
      "\n",
      "compound: 0.0, neg: 0.0, neu: 0.0, pos: 0.0, \n",
      "\n",
      "SSIM is the Top Business School in Hyderabad , India offering PGDM courses approved by AICTE . We have qualified faculty and industry experts as our professors and guest lecturers . We train our students to master both the technical & management aspects of the business .\n",
      "compound: 0.5574, neg: 0.0, neu: 0.897, pos: 0.103, \n",
      "\n",
      "Mandatory Disclosures AICTE Approvals ( 1992-2020 ) Blog Careers Admissions Alumni Library\n",
      "compound: 0.0772, neg: 0.0, neu: 0.874, pos: 0.126, \n",
      "\n",
      "\n",
      "compound: 0.0, neg: 0.0, neu: 0.0, pos: 0.0, \n",
      "\n"
     ]
    }
   ],
   "source": [
    "# Sentiment analysis\n",
    "from nltk.sentiment.vader import SentimentIntensityAnalyzer\n",
    "sid = SentimentIntensityAnalyzer()\n",
    "for sentence in words:\n",
    "    sentence = listToString(sentence)\n",
    "    print(sentence)\n",
    "    ss = sid.polarity_scores(sentence)\n",
    "    for k in sorted(ss):\n",
    "        print('{0}: {1}, '.format(k, ss[k]), end='')\n",
    "    print('\\n')"
   ]
  },
  {
   "cell_type": "code",
   "execution_count": null,
   "metadata": {},
   "outputs": [],
   "source": []
  }
 ],
 "metadata": {
  "kernelspec": {
   "display_name": "Python 3",
   "language": "python",
   "name": "python3"
  },
  "language_info": {
   "codemirror_mode": {
    "name": "ipython",
    "version": 3
   },
   "file_extension": ".py",
   "mimetype": "text/x-python",
   "name": "python",
   "nbconvert_exporter": "python",
   "pygments_lexer": "ipython3",
   "version": "3.7.3"
  }
 },
 "nbformat": 4,
 "nbformat_minor": 4
}
