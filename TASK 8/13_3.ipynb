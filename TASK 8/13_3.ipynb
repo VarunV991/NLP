{
 "cells": [
  {
   "cell_type": "markdown",
   "metadata": {},
   "source": [
    "# TASK 7"
   ]
  },
  {
   "cell_type": "code",
   "execution_count": null,
   "metadata": {},
   "outputs": [],
   "source": []
  },
  {
   "cell_type": "markdown",
   "metadata": {},
   "source": []
  },
  {
   "cell_type": "code",
   "execution_count": 1,
   "metadata": {},
   "outputs": [],
   "source": [
    "import nltk\n",
    "from nltk.tokenize import RegexpTokenizer\n",
    "tokenizer = RegexpTokenizer(\"\\w+\")"
   ]
  },
  {
   "cell_type": "code",
   "execution_count": 2,
   "metadata": {},
   "outputs": [],
   "source": [
    "sentence = \"The little yellow dog chased the cat\"\n",
    "words = tokenizer.tokenize(sentence)\n",
    "tagged_words = nltk.pos_tag(words)"
   ]
  },
  {
   "cell_type": "code",
   "execution_count": 3,
   "metadata": {},
   "outputs": [
    {
     "data": {
      "text/plain": [
       "[('The', 'DT'),\n",
       " ('little', 'JJ'),\n",
       " ('yellow', 'JJ'),\n",
       " ('dog', 'NN'),\n",
       " ('chased', 'VBD'),\n",
       " ('the', 'DT'),\n",
       " ('cat', 'NN')]"
      ]
     },
     "execution_count": 3,
     "metadata": {},
     "output_type": "execute_result"
    }
   ],
   "source": [
    "tagged_words"
   ]
  },
  {
   "cell_type": "code",
   "execution_count": 4,
   "metadata": {},
   "outputs": [],
   "source": [
    "grammar = \"NP: {<DT>?<JJ>*<NN>}\"\n",
    "cp = nltk.RegexpParser(grammar)\n",
    "result = cp.parse(tagged_words)"
   ]
  },
  {
   "cell_type": "code",
   "execution_count": 5,
   "metadata": {},
   "outputs": [
    {
     "name": "stdout",
     "output_type": "stream",
     "text": [
      "(S\n",
      "  (NP The/DT little/JJ yellow/JJ dog/NN)\n",
      "  chased/VBD\n",
      "  (NP the/DT cat/NN))\n"
     ]
    }
   ],
   "source": [
    "print(result)"
   ]
  },
  {
   "cell_type": "code",
   "execution_count": 6,
   "metadata": {},
   "outputs": [],
   "source": [
    "result.draw()"
   ]
  },
  {
   "cell_type": "code",
   "execution_count": null,
   "metadata": {},
   "outputs": [],
   "source": []
  },
  {
   "cell_type": "code",
   "execution_count": 9,
   "metadata": {},
   "outputs": [],
   "source": [
    "import spacy\n",
    "nlp = spacy.load('en')"
   ]
  },
  {
   "cell_type": "code",
   "execution_count": 8,
   "metadata": {},
   "outputs": [
    {
     "name": "stdout",
     "output_type": "stream",
     "text": [
      "This day last year DATE\n",
      "Indian NORP\n",
      "several decades DATE\n",
      "130 CARDINAL\n",
      "India GPE\n",
      "2014 DATE\n",
      "the last five years DATE\n",
      "millions CARDINAL\n",
      "2014 to 2019 DATE\n",
      "India GPE\n",
      "India GPE\n",
      "decades DATE\n",
      "OROP ORG\n",
      "One CARDINAL\n",
      "One CARDINAL\n",
      "2019 DATE\n",
      "India GPE\n",
      "India GPE\n",
      "new heights GPE\n",
      "India GPE\n",
      "the last one year DATE\n",
      "Today DATE\n",
      "130 CARDINAL\n",
      "Sabka Vikas GPE\n",
      "Sabka Vishwas' PERSON\n",
      "India GPE\n"
     ]
    }
   ],
   "source": [
    "example = '''This day last year began a golden chapter in the history of Indian democracy. It was after several decades that the people of the country voted back a full-term government with a full majority.\n",
    "\n",
    "Once again, I bow to the 130 crore people of India and the democratic ethos of our nation.\n",
    "\n",
    "During normal times, I would have been in your midst. However, the present circumstances do not permit that. That is why, I seek your blessings through this letter.\n",
    "\n",
    "Your affection, goodwill and active cooperation have given new energy, and inspiration. The way you have showcased the collective strength of democracy is a guiding light for the whole world.\n",
    "\n",
    "Back in 2014, the people of the country voted for a substantive transformation. In the last five years, the nation saw how the administrative apparatus broke itself free of status quo and from the swamp of corruption as well as misgovernance. True to the spirit of 'Antyodaya' the lives of millions have been transformed.\n",
    "\n",
    "From 2014 to 2019, India's stature rose significantly. The dignity of the poor was enhanced. The nation achieved financial inclusion, free gas and electricity connections, total sanitation coverage, and made progress towards ensuring 'Housing for All.'\n",
    "\n",
    "India demonstrated its mettle through the surgical strike and air strike. At the same time, decades old demands such as OROP, One Nation One Tax- GST, better MSP for farmers were fulfilled.\n",
    "\n",
    "In 2019, the people of India voted not merely for continuity but also with a dream of taking India to new heights. A dream of making India a global leader. The decisions taken in the last one year are directed at fulfilling this dream.\n",
    "\n",
    "Today, 130 crore people feel involved and integrated in the development trajectory of the nation. The light of 'Jan Shakti' and 'Rashtra Shakti' has ignited the entire nation. Powered by the Mantra of 'Sabka Saath, Sabka Vikas, Sabka Vishwas' India is marching forward in all spheres.'''\n",
    "doc = nlp(example)\n",
    "\n",
    "for ent in doc.ents:\n",
    "    print(ent.text, ent.label_)"
   ]
  },
  {
   "cell_type": "code",
   "execution_count": null,
   "metadata": {},
   "outputs": [],
   "source": []
  },
  {
   "cell_type": "code",
   "execution_count": null,
   "metadata": {},
   "outputs": [],
   "source": []
  }
 ],
 "metadata": {
  "kernelspec": {
   "display_name": "Python 3",
   "language": "python",
   "name": "python3"
  },
  "language_info": {
   "codemirror_mode": {
    "name": "ipython",
    "version": 3
   },
   "file_extension": ".py",
   "mimetype": "text/x-python",
   "name": "python",
   "nbconvert_exporter": "python",
   "pygments_lexer": "ipython3",
   "version": "3.7.3"
  }
 },
 "nbformat": 4,
 "nbformat_minor": 4
}
